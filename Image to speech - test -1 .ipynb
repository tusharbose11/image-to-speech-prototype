{
 "cells": [
  {
   "cell_type": "code",
   "execution_count": 1,
   "metadata": {},
   "outputs": [],
   "source": [
    "import cv2\n",
    "import pytesseract\n",
    "pytesseract.pytesseract.tesseract_cmd= r'C:\\\\Program Files\\\\Tesseract-OCR\\\\tesseract.exe'"
   ]
  },
  {
   "cell_type": "code",
   "execution_count": 2,
   "metadata": {},
   "outputs": [
    {
     "name": "stdout",
     "output_type": "stream",
     "text": [
      " \n",
      "\n",
      "Hand Tools across the globe to over 40 Countries.\n",
      "\n",
      "The company believes in Total Quality Systems tO ensure consistency jn qualit\n",
      "accredited with ISO 9001:2008 & GS certification. IES eee have been\n",
      "\n",
      "We are always in touch with tomorrow and are Moving towards our goals through our experi We h\n",
      "erience. We have\n",
      "\n",
      "renewed and dedicated ourselves for the achievement of our goal — ‘Reliability through Perfection & E lent\n",
      "xceien\n",
      "\n",
      "Services’.\n",
      "With a progressive vision, the company aims to set landmark of utmost quality and service. In our endeavour to do\n",
      "\n",
      "so, we have not overlooked our obligations to our employees, orto the society.\n",
      "\n",
      "Our obligations to the Society:\n",
      "\n",
      "Our obligations to our Employees:\n",
      "* Minimum wage benefits as stipulated by the Govt. of India * No child labour\n",
      "* Free Medical benefits ¢ Pollution free environment\n",
      "¢ Environment friendly packaging\n",
      "\n",
      "* Retirement benefits\n",
      "\f",
      "\n"
     ]
    }
   ],
   "source": [
    "img = cv2.imread('test1.jpg')\n",
    "text = pytesseract.image_to_string(img)\n",
    "print(text)"
   ]
  },
  {
   "cell_type": "code",
   "execution_count": 3,
   "metadata": {},
   "outputs": [
    {
     "data": {
      "text/plain": [
       "1"
      ]
     },
     "execution_count": 3,
     "metadata": {},
     "output_type": "execute_result"
    }
   ],
   "source": [
    "from gtts import gTTS \n",
    "  \n",
    "# This module is imported so that we can  \n",
    "# play the converted audio \n",
    "import os \n",
    "  \n",
    "# Language in which you want to convert \n",
    "language = 'en'\n",
    "  \n",
    "# Passing the text and language to the engine,  \n",
    "# here we have marked slow=False. Which tells  \n",
    "# the module that the converted audio should  \n",
    "# have a high speed \n",
    "myobj = gTTS(text=text, lang=language, slow=False) \n",
    "  \n",
    "# Saving the converted audio in a mp3 file named \n",
    "# welcome  \n",
    "myobj.save(\"recording1.mp3\") \n",
    "  \n",
    "# Playing the converted file \n",
    "os.system(\"mpg321 recording1.mp3\") "
   ]
  }
 ],
 "metadata": {
  "kernelspec": {
   "display_name": "Python 3",
   "language": "python",
   "name": "python3"
  },
  "language_info": {
   "codemirror_mode": {
    "name": "ipython",
    "version": 3
   },
   "file_extension": ".py",
   "mimetype": "text/x-python",
   "name": "python",
   "nbconvert_exporter": "python",
   "pygments_lexer": "ipython3",
   "version": "3.7.3"
  }
 },
 "nbformat": 4,
 "nbformat_minor": 4
}
